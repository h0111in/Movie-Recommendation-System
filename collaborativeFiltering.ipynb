{
 "cells": [
  {
   "cell_type": "code",
   "execution_count": 1,
   "metadata": {},
   "outputs": [],
   "source": [
    "import sys\n",
    "import pyspark\n",
    "from pyspark.sql import Row\n",
    "from pyspark.sql import SparkSession\n",
    "spark = SparkSession\\\n",
    "        .builder\\\n",
    "        .appName(\"la3\")\\\n",
    "        .getOrCreate()\n",
    "sc=pyspark.SparkContext.getOrCreate()"
   ]
  },
  {
   "cell_type": "code",
   "execution_count": 2,
   "metadata": {},
   "outputs": [],
   "source": [
    "import pandas as pd\n",
    "\n",
    "ratings  = pd.read_csv('./imdb/ratings.csv',low_memory=False)"
   ]
  },
  {
   "cell_type": "code",
   "execution_count": 3,
   "metadata": {},
   "outputs": [],
   "source": [
    "user_ids=ratings.drop_duplicates('userId')['userId']"
   ]
  },
  {
   "cell_type": "code",
   "execution_count": 4,
   "metadata": {},
   "outputs": [],
   "source": [
    "target_user=int(user_ids.sample(1))\n",
    "\n",
    "# take the rating info\n",
    "user_ratings=ratings.loc[ratings['userId']==target_user]\n",
    "train=user_ratings.sample(int(len(user_ratings)*0.8))\n",
    "test=user_ratings[~user_ratings.movieId.isin(train.movieId)]\n",
    "\n"
   ]
  },
  {
   "cell_type": "code",
   "execution_count": 145,
   "metadata": {},
   "outputs": [],
   "source": [
    "train_movies=train.drop_duplicates('movieId')\n",
    "test_movies=test.drop_duplicates('movieId')\n",
    "\n",
    "train_users=ratings.merge(movies_train,left_on='movieId',right_on='movieId').drop_duplicates('userId_x')\n",
    "test_users=ratings.merge(movies_test,left_on='movieId',right_on='movieId').drop_duplicates('userId_x')\n",
    "common_users=train_users.merge(test_users,left_on='userId_x',right_on='userId_x').drop_duplicates('userId_x')\n",
    "\n",
    "train_rating=ratings.merge(movies_train,left_on='movieId',right_on='movieId',how='right').merge(common_users,left_on='userId_x',right_on='userId_x')[['userId_x','movieId','rating','timestamp']]\n"
   ]
  },
  {
   "cell_type": "code",
   "execution_count": 198,
   "metadata": {},
   "outputs": [
    {
     "data": {
      "text/plain": [
       "userId_x\n",
       "229       0.818748\n",
       "346       0.819811\n",
       "611       0.844116\n",
       "682       0.805004\n",
       "741       0.855204\n",
       "1149      0.809146\n",
       "1757      0.835710\n",
       "2506      0.836970\n",
       "2531      0.867686\n",
       "3430      0.800344\n",
       "3437      0.884262\n",
       "3778      0.900982\n",
       "3910      0.805043\n",
       "3967      0.810613\n",
       "4073      0.874676\n",
       "4160      0.805649\n",
       "4294      0.852136\n",
       "4323      0.854462\n",
       "4785      0.831637\n",
       "5102      0.846914\n",
       "5378      0.848924\n",
       "5512      0.823414\n",
       "5829      0.906085\n",
       "5915      0.809480\n",
       "6513      0.828940\n",
       "7002      0.803964\n",
       "7040      0.823263\n",
       "7158      0.818018\n",
       "7238      0.830467\n",
       "7417      0.819171\n",
       "            ...   \n",
       "262769    0.867415\n",
       "262982    0.835940\n",
       "263081    0.849750\n",
       "263115    0.830458\n",
       "263265    0.885169\n",
       "263870    0.811794\n",
       "263907    0.865037\n",
       "264848    0.898239\n",
       "264874    0.884591\n",
       "265067    0.851461\n",
       "265270    0.812310\n",
       "265327    0.840131\n",
       "265840    0.819125\n",
       "265926    0.805149\n",
       "266235    0.804364\n",
       "266243    0.820008\n",
       "266783    0.856342\n",
       "267131    0.856968\n",
       "267597    0.829956\n",
       "267772    0.916205\n",
       "268239    0.837845\n",
       "268387    0.814328\n",
       "268736    0.832743\n",
       "269034    0.843909\n",
       "269132    0.878813\n",
       "269212    0.804128\n",
       "270123    0.822108\n",
       "270213    0.825543\n",
       "270237    0.906572\n",
       "270654    0.911001\n",
       "Length: 1090, dtype: float64"
      ]
     },
     "execution_count": 198,
     "metadata": {},
     "output_type": "execute_result"
    }
   ],
   "source": [
    "import math\n",
    "train['rating2']=train['rating']**2\n",
    "def cosine(movies):\n",
    "    common_vector=train.merge(movies,left_on='movieId',right_on='movieId',how='left').fillna(0)\n",
    "    common_vector['rating_y2']=common_vector['rating_y']**2\n",
    "    common_vector['rating_xy']=common_vector['rating_x']*common_vector['rating_y']\n",
    "    return common_vector.rating_xy.sum()/(math.sqrt(common_vector.rating2.sum() * common_vector.rating_y2.sum()))\n",
    "sim_matrix=train_rating.groupby(['userId_x'])[['movieId','rating']].apply(cosine)\n"
   ]
  },
  {
   "cell_type": "code",
   "execution_count": 286,
   "metadata": {},
   "outputs": [
    {
     "data": {
      "text/plain": [
       "17097360     [780.0, 4.0, 3.2906008011629866]\n",
       "17097362     [912.0, 4.0, 4.2470189926426505]\n",
       "17097364     [1077.0, 4.0, 3.862227302639372]\n",
       "17097365    [1084.0, 4.0, 3.9062767506383285]\n",
       "17097366     [1179.0, 4.0, 3.720318244336796]\n",
       "17097372    [1234.0, 5.0, 4.1598320580894494]\n",
       "17097379     [1517.0, 4.0, 3.424552170781906]\n",
       "17097385     [1610.0, 4.0, 3.841302040884119]\n",
       "dtype: object"
      ]
     },
     "execution_count": 286,
     "metadata": {},
     "output_type": "execute_result"
    }
   ],
   "source": [
    "def getRate(m):\n",
    "    e_m=m.loc['movieId']\n",
    "    similarity=pd.DataFrame({'userId':list(sim_matrix.keys()),'sim':list(sim_matrix.values)})\n",
    "    #similarity=similarity[similarity.userId!=target_user]\n",
    "    similarity=similarity.merge(ratings[ratings['movieId']==e_m],left_on='userId',right_on='userId')[['sim','userId','rating']]\n",
    "    similarity['simR']=similarity['sim']*similarity['rating']\n",
    "    return [e_m,m.loc['rating'],similarity['simR'].sum()/similarity['sim'].sum()]\n",
    "\n",
    "test.apply(getRate,axis=1)"
   ]
  },
  {
   "cell_type": "code",
   "execution_count": 261,
   "metadata": {},
   "outputs": [
    {
     "data": {
      "text/html": [
       "<div>\n",
       "<style scoped>\n",
       "    .dataframe tbody tr th:only-of-type {\n",
       "        vertical-align: middle;\n",
       "    }\n",
       "\n",
       "    .dataframe tbody tr th {\n",
       "        vertical-align: top;\n",
       "    }\n",
       "\n",
       "    .dataframe thead th {\n",
       "        text-align: right;\n",
       "    }\n",
       "</style>\n",
       "<table border=\"1\" class=\"dataframe\">\n",
       "  <thead>\n",
       "    <tr style=\"text-align: right;\">\n",
       "      <th></th>\n",
       "      <th>userId</th>\n",
       "      <th>movieId</th>\n",
       "      <th>rating</th>\n",
       "      <th>timestamp</th>\n",
       "    </tr>\n",
       "  </thead>\n",
       "  <tbody>\n",
       "    <tr>\n",
       "      <th>17097360</th>\n",
       "      <td>177513</td>\n",
       "      <td>780</td>\n",
       "      <td>4.0</td>\n",
       "      <td>891165098</td>\n",
       "    </tr>\n",
       "    <tr>\n",
       "      <th>17097362</th>\n",
       "      <td>177513</td>\n",
       "      <td>912</td>\n",
       "      <td>4.0</td>\n",
       "      <td>891556853</td>\n",
       "    </tr>\n",
       "    <tr>\n",
       "      <th>17097364</th>\n",
       "      <td>177513</td>\n",
       "      <td>1077</td>\n",
       "      <td>4.0</td>\n",
       "      <td>891556853</td>\n",
       "    </tr>\n",
       "    <tr>\n",
       "      <th>17097365</th>\n",
       "      <td>177513</td>\n",
       "      <td>1084</td>\n",
       "      <td>4.0</td>\n",
       "      <td>891556853</td>\n",
       "    </tr>\n",
       "    <tr>\n",
       "      <th>17097366</th>\n",
       "      <td>177513</td>\n",
       "      <td>1179</td>\n",
       "      <td>4.0</td>\n",
       "      <td>891556853</td>\n",
       "    </tr>\n",
       "    <tr>\n",
       "      <th>17097372</th>\n",
       "      <td>177513</td>\n",
       "      <td>1234</td>\n",
       "      <td>5.0</td>\n",
       "      <td>891556666</td>\n",
       "    </tr>\n",
       "    <tr>\n",
       "      <th>17097379</th>\n",
       "      <td>177513</td>\n",
       "      <td>1517</td>\n",
       "      <td>4.0</td>\n",
       "      <td>891469337</td>\n",
       "    </tr>\n",
       "    <tr>\n",
       "      <th>17097385</th>\n",
       "      <td>177513</td>\n",
       "      <td>1610</td>\n",
       "      <td>4.0</td>\n",
       "      <td>891469251</td>\n",
       "    </tr>\n",
       "  </tbody>\n",
       "</table>\n",
       "</div>"
      ],
      "text/plain": [
       "          userId  movieId  rating  timestamp\n",
       "17097360  177513      780     4.0  891165098\n",
       "17097362  177513      912     4.0  891556853\n",
       "17097364  177513     1077     4.0  891556853\n",
       "17097365  177513     1084     4.0  891556853\n",
       "17097366  177513     1179     4.0  891556853\n",
       "17097372  177513     1234     5.0  891556666\n",
       "17097379  177513     1517     4.0  891469337\n",
       "17097385  177513     1610     4.0  891469251"
      ]
     },
     "execution_count": 261,
     "metadata": {},
     "output_type": "execute_result"
    }
   ],
   "source": [
    "test"
   ]
  },
  {
   "cell_type": "code",
   "execution_count": 93,
   "metadata": {},
   "outputs": [
    {
     "data": {
      "text/plain": [
       "[4.0, 4.0, 4.0, 4.0, 4.0, 5.0, 4.0, 4.0]"
      ]
     },
     "execution_count": 93,
     "metadata": {},
     "output_type": "execute_result"
    }
   ],
   "source": [
    "m_list=[]\n",
    "movies=test\n",
    "for u_movie in test['movieId']:\n",
    "    m_list.append(float(movies.loc[u_movie==movies['movieId']]['rating']) if u_movie in list(movies['movieId']) else 0)\n",
    "m_list"
   ]
  }
 ],
 "metadata": {
  "kernelspec": {
   "display_name": "Python 3",
   "language": "python",
   "name": "python3"
  },
  "language_info": {
   "codemirror_mode": {
    "name": "ipython",
    "version": 3
   },
   "file_extension": ".py",
   "mimetype": "text/x-python",
   "name": "python",
   "nbconvert_exporter": "python",
   "pygments_lexer": "ipython3",
   "version": "3.6.4"
  }
 },
 "nbformat": 4,
 "nbformat_minor": 2
}
