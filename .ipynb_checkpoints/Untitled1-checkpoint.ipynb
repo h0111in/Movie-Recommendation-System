{
 "cells": [
  {
   "cell_type": "code",
   "execution_count": 1,
   "metadata": {},
   "outputs": [],
   "source": [
    "import sys\n",
    "import pyspark\n",
    "from pyspark.sql import Row\n",
    "from pyspark.sql import SparkSession\n",
    "spark = SparkSession\\\n",
    "        .builder\\\n",
    "        .appName(\"la3\")\\\n",
    "        .getOrCreate()\n",
    "sc=pyspark.SparkContext.getOrCreate()"
   ]
  },
  {
   "cell_type": "code",
   "execution_count": 2,
   "metadata": {},
   "outputs": [],
   "source": [
    "import pandas as pd\n",
    "\n",
    "ratings  = pd.read_csv('./imdb/ratings.csv',low_memory=False)"
   ]
  },
  {
   "cell_type": "code",
   "execution_count": 3,
   "metadata": {},
   "outputs": [],
   "source": [
    "user_ids=ratings.drop_duplicates('userId')['userId']"
   ]
  },
  {
   "cell_type": "code",
   "execution_count": 4,
   "metadata": {},
   "outputs": [],
   "source": [
    "target_user=int(user_ids.sample(1))\n",
    "\n",
    "# take the rating info\n",
    "user_ratings=ratings.loc[ratings['userId']==target_user]\n",
    "train=user_ratings.sample(int(len(user_ratings)*0.8))\n",
    "test=user_ratings[~user_ratings.movieId.isin(train.movieId)]\n",
    "\n"
   ]
  },
  {
   "cell_type": "code",
   "execution_count": 145,
   "metadata": {},
   "outputs": [],
   "source": [
    "train_movies=train.drop_duplicates('movieId')\n",
    "test_movies=test.drop_duplicates('movieId')\n",
    "\n",
    "train_users=ratings.merge(movies_train,left_on='movieId',right_on='movieId').drop_duplicates('userId_x')\n",
    "test_users=ratings.merge(movies_test,left_on='movieId',right_on='movieId').drop_duplicates('userId_x')\n",
    "common_users=train_users.merge(test_users,left_on='userId_x',right_on='userId_x').drop_duplicates('userId_x')\n",
    "\n",
    "train_rating=ratings.merge(movies_train,left_on='movieId',right_on='movieId',how='right').merge(common_users,left_on='userId_x',right_on='userId_x')[['userId_x','movieId','rating','timestamp']]\n",
    "test_rating=ratings.merge(movies_test,left_on='movieId',right_on='movieId',how='right').merge(common_users,left_on='userId_x',right_on='userId_x')[['userId_x','movieId','rating','timestamp']]\n"
   ]
  },
  {
   "cell_type": "code",
   "execution_count": 173,
   "metadata": {},
   "outputs": [
    {
     "data": {
      "text/plain": [
       "userId_x\n",
       "12    231.0\n",
       "20    173.0\n",
       "24    310.0\n",
       "27     94.5\n",
       "30    128.0\n",
       "34    198.5\n",
       "37    119.5\n",
       "47    176.5\n",
       "49    263.0\n",
       "50     18.0\n",
       "56     53.5\n",
       "dtype: float64"
      ]
     },
     "execution_count": 173,
     "metadata": {},
     "output_type": "execute_result"
    }
   ],
   "source": [
    "train['rating2']=train['rating']**2\n",
    "def cosine(movies):\n",
    "    common_vector=train.merge(movies,left_on='movieId',right_on='movieId',how='left').fillna(0)\n",
    "    common_vector['rating_y2']=common_vector['rating_y2']**2\n",
    "    common_vector['rating_xy']=common_vector['rating_x']*common_vector['rating_y']\n",
    "    return common_vector.rating_xy.sum()/(math.sqrt(common_vector.rating2.sum()*common_vector.rating_y2.sum()))\n",
    "train_rating[0:100].groupby(['userId_x'])[['movieId','rating']].apply(cosine)\n"
   ]
  },
  {
   "cell_type": "code",
   "execution_count": 82,
   "metadata": {},
   "outputs": [
    {
     "data": {
      "text/plain": [
       "1.8633981263670505"
      ]
     },
     "execution_count": 82,
     "metadata": {},
     "output_type": "execute_result"
    }
   ],
   "source": [
    "len(test_rating)/len(test_rating.groupby(['userId_x']))"
   ]
  },
  {
   "cell_type": "code",
   "execution_count": 93,
   "metadata": {},
   "outputs": [
    {
     "data": {
      "text/plain": [
       "[4.0, 4.0, 4.0, 4.0, 4.0, 5.0, 4.0, 4.0]"
      ]
     },
     "execution_count": 93,
     "metadata": {},
     "output_type": "execute_result"
    }
   ],
   "source": [
    "m_list=[]\n",
    "movies=test\n",
    "for u_movie in test['movieId']:\n",
    "    m_list.append(float(movies.loc[u_movie==movies['movieId']]['rating']) if u_movie in list(movies['movieId']) else 0)\n",
    "m_list"
   ]
  }
 ],
 "metadata": {
  "kernelspec": {
   "display_name": "Python 3",
   "language": "python",
   "name": "python3"
  },
  "language_info": {
   "codemirror_mode": {
    "name": "ipython",
    "version": 3
   },
   "file_extension": ".py",
   "mimetype": "text/x-python",
   "name": "python",
   "nbconvert_exporter": "python",
   "pygments_lexer": "ipython3",
   "version": "3.6.4"
  }
 },
 "nbformat": 4,
 "nbformat_minor": 2
}
