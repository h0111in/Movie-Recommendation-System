{
 "cells": [
  {
   "cell_type": "code",
   "execution_count": 731,
   "metadata": {},
   "outputs": [],
   "source": [
    "#load data \n",
    "\n",
    "import sys\n",
    "import pyspark\n",
    "from pyspark.sql import Row\n",
    "from pyspark.sql import SparkSession\n",
    "spark = SparkSession\\\n",
    "        .builder\\\n",
    "        .appName(\"la3\")\\\n",
    "        .getOrCreate()\n",
    "sc=pyspark.SparkContext.getOrCreate()"
   ]
  },
  {
   "cell_type": "code",
   "execution_count": 732,
   "metadata": {},
   "outputs": [],
   "source": [
    "import pandas as pd\n",
    "\n",
    "\n",
    "credits = pd.read_csv('./imdb/credits.csv',low_memory=False)\n",
    "keywords = pd.read_csv('./imdb/keywords.csv',low_memory=False)\n",
    "links= pd.read_csv('./imdb/links.csv',low_memory=False)\n",
    "metadata_raw= pd.read_csv('./imdb/movies_metadata.csv',low_memory=False)\n",
    "\n",
    "ratings  = pd.read_csv('./imdb/ratings.csv',low_memory=False)"
   ]
  },
  {
   "cell_type": "code",
   "execution_count": 733,
   "metadata": {},
   "outputs": [],
   "source": [
    "#refine data\n",
    "metadata_raw=metadata_raw[metadata_raw['id'].apply(lambda x: str(x).isdigit())]\n",
    "metadata_raw.id=metadata_raw.id.astype(int)\n",
    "metadata=metadata_raw"
   ]
  },
  {
   "cell_type": "code",
   "execution_count": 734,
   "metadata": {},
   "outputs": [],
   "source": [
    "\n",
    "metadata=metadata.merge(credits,left_on='id',right_on='id',how='inner')\\\n",
    "        .merge(keywords,left_on='id',right_on='id',how='inner')\n",
    "\n",
    "\n",
    "metadata=metadata.merge(links,left_on='id',right_on='tmdbId',how='left')\n"
   ]
  },
  {
   "cell_type": "code",
   "execution_count": 736,
   "metadata": {},
   "outputs": [],
   "source": [
    "user_ids=ratings.drop_duplicates('userId')['userId']"
   ]
  },
  {
   "cell_type": "code",
   "execution_count": 783,
   "metadata": {},
   "outputs": [
    {
     "data": {
      "text/plain": [
       "True"
      ]
     },
     "execution_count": 783,
     "metadata": {},
     "output_type": "execute_result"
    }
   ],
   "source": [
    "\n",
    "target_user=int(user_ids.sample(1))\n",
    "\n",
    "# take the rating info\n",
    "user_ratings=ratings.loc[ratings['userId']==target_user]\n",
    "\n",
    "train=user_ratings.sample(int(len(user_ratings)*0.8))\n",
    "test=user_ratings[~user_ratings.movieId.isin(train.movieId)]\n",
    "train_items=metadata.merge(train,left_on='movieId',right_on='movieId',how='right')\n",
    "test_items=metadata.merge(test,left_on='movieId',right_on='movieId',how='right')\n",
    "\n",
    "len(test_items)==len(test) and len(train_items)==len(train)\n"
   ]
  },
  {
   "cell_type": "code",
   "execution_count": 809,
   "metadata": {},
   "outputs": [],
   "source": [
    "#user profile\n",
    "#extract features\n",
    "import json,re, itertools\n",
    "import ast\n",
    "import numpy as np\n",
    "from pandas.io.json import json_normalize\n",
    "def ext_feature(column,key):\n",
    "    try:\n",
    "        t=column[column!='[]'].apply(lambda x:json_normalize(ast.literal_eval(x))[key])\n",
    "        x=pd.unique(t.values.ravel('K'))\n",
    "        \n",
    "        return list(x[~pd.isnull(x)])\n",
    "    except:\n",
    "        print(column)\n",
    "    return list()\n",
    "\n",
    "#1-json columns\n",
    "json_columns = {'keywords':'id'\n",
    "                ,'crew':'id'\n",
    "                ,'cast':'id'\n",
    "                ,'genres':'id'\n",
    "                , 'production_countries':'iso_3166_1'\n",
    "                #'production_companies':'id',\n",
    "                ,'spoken_languages':'iso_639_1'\n",
    "               }\n",
    "u_features={}\n",
    "for column in json_columns.keys():\n",
    "    u_features[column]=ext_feature(train_items[column],json_columns[column])\n",
    "\n",
    "#year------metadata=metadata.withColumn(\"year\", year(col('release_date')))\n",
    "#budget\n",
    "#actors\n",
    "#director\n",
    "#..."
   ]
  },
  {
   "cell_type": "code",
   "execution_count": 848,
   "metadata": {},
   "outputs": [
    {
     "name": "stdout",
     "output_type": "stream",
     "text": [
      "adult                                                                False\n",
      "belongs_to_collection    {'id': 151, 'name': 'Star Trek: The Original S...\n",
      "budget                                                            18000000\n",
      "genres                   [{'id': 878, 'name': 'Science Fiction'}, {'id'...\n",
      "homepage                                                               NaN\n",
      "id                                                                     157\n",
      "imdb_id                                                          tt0088170\n",
      "original_language                                                       en\n",
      "original_title                         Star Trek III: The Search for Spock\n",
      "overview                 Admiral Kirk and his bridge crew risk their ca...\n",
      "popularity                                                        6.197298\n",
      "poster_path                               /b9ZaPiD6AaZR7CgQP5P4Kg893QL.jpg\n",
      "production_companies             [{'name': 'Paramount Pictures', 'id': 4}]\n",
      "production_countries     [{'iso_3166_1': 'US', 'name': 'United States o...\n",
      "release_date                                                    1984-05-31\n",
      "revenue                                                            8.7e+07\n",
      "runtime                                                                105\n",
      "spoken_languages         [{'iso_639_1': 'en', 'name': 'English'}, {'iso...\n",
      "status                                                            Released\n",
      "tagline                                  A dying planet. A fight for life.\n",
      "title                                  Star Trek III: The Search for Spock\n",
      "video                                                                False\n",
      "vote_average                                                           6.4\n",
      "vote_count                                                             443\n",
      "cast                     [{'cast_id': 5, 'character': 'Admiral James T....\n",
      "crew                     [{'credit_id': '52fe4220c3a36847f8005e57', 'de...\n",
      "keywords                                                                []\n",
      "movieId                                                               1375\n",
      "imdbId                                                               88170\n",
      "tmdbId                                                                 157\n",
      "userId                                                              200107\n",
      "rating                                                                 3.5\n",
      "timestamp                                                       1292524903\n",
      "Name: 4, dtype: object\n"
     ]
    }
   ],
   "source": [
    "#USER PROFILE\n",
    "avg=train_items.rating.mean()\n",
    "def setMovieVector(item):#based on user's ratings\n",
    "    vector={}\n",
    "    i=0\n",
    "    for column in json_columns.keys():\n",
    "        f_vector=dict((uf,0.0) for uf in u_features[column])\n",
    "        i_feature=item.loc[column]\n",
    "        try:\n",
    "            features=json_normalize(ast.literal_eval(i_feature))[json_columns[column]]\n",
    "        except:\n",
    "            print(item)\n",
    "            features=[]\n",
    "            \n",
    "        for u_f in u_features[column]:\n",
    "            if u_f in list(features):\n",
    "                    f_vector[u_f]=item['rating']#-avg\n",
    "                    i+=1\n",
    "        vector[column]=f_vector\n",
    "    if i==0:\n",
    "        i=1\n",
    "    vector['total_attributes']=i\n",
    "    return vector\n",
    "\n",
    "#score user based on train set\n",
    "train_vectores=train_items.apply(setMovieVector, axis=1)\n",
    "\n",
    "\n",
    "import math\n",
    "def sumVectors(vectors):\n",
    "    sumScore={}\n",
    "    if len(score)>0:        \n",
    "        sumScores=dict((g,{}) for g in vectors[0])\n",
    "        for column in json_columns.keys():\n",
    "            sumScores[column]=dict((g,0.0) for g in u_features[column])\n",
    "            for f in u_features[column]:\n",
    "                total=0\n",
    "                for row in vectors:                    \n",
    "                    sumScores[column][f]+=row[column][f]/math.sqrt(row['total_attributes'])\n",
    "                    if row[column][f]!= 0:\n",
    "                        total+=1\n",
    "                if total>0:\n",
    "                    sumScores[column][f]/=total\n",
    "    sumScores['rating']=avg\n",
    "    sumScores['confidence']=100\n",
    "    return sumScores\n",
    "\n",
    "user_vector=sumVectors(train_vectores)\n"
   ]
  },
  {
   "cell_type": "code",
   "execution_count": 849,
   "metadata": {},
   "outputs": [
    {
     "data": {
      "text/plain": [
       "14"
      ]
     },
     "execution_count": 849,
     "metadata": {},
     "output_type": "execute_result"
    }
   ],
   "source": [
    "len(train_vectores)"
   ]
  },
  {
   "cell_type": "code",
   "execution_count": 850,
   "metadata": {},
   "outputs": [],
   "source": [
    "#SIMILARITY SPACE\n",
    "def getMovieVector(item):#based on user's profile\n",
    "    vector={}\n",
    "    i=0.0#item's features\n",
    "    t=0.0#total user's features\n",
    "    for column in json_columns.keys():\n",
    "        f_vector=dict((uf,0.0) for uf in u_features[column])\n",
    "        i_feature=item.loc[column]\n",
    "        try:\n",
    "            features=json_normalize(ast.literal_eval(i_feature))[json_columns[column]]\n",
    "        except:\n",
    "            print(i_feature)\n",
    "            print(\"setMovieVector\\r\\n\")\n",
    "            features=[]\n",
    "        t+=len(u_features[column])\n",
    "        for u_f in u_features[column]:\n",
    "            if u_f in list(features):\n",
    "                f_vector[u_f]=user_vector[column][u_f]\n",
    "                i+=1\n",
    "        vector[column]=f_vector\n",
    "    vector['rating']=item['rating']\n",
    "    vector['confidence']=i/t*100\n",
    "    return vector\n",
    "testMovieVectors=test_items.apply(getMovieVector,axis=1)\n"
   ]
  },
  {
   "cell_type": "code",
   "execution_count": 846,
   "metadata": {},
   "outputs": [
    {
     "data": {
      "text/plain": [
       "0.955794504181601"
      ]
     },
     "execution_count": 846,
     "metadata": {},
     "output_type": "execute_result"
    }
   ],
   "source": [
    "testMovieVectors[3]['confidence']"
   ]
  },
  {
   "cell_type": "code",
   "execution_count": 851,
   "metadata": {},
   "outputs": [
    {
     "data": {
      "text/plain": [
       "0    [3.0, 2.09, 0.8363201911589008, 4.07, 226.8, 100]\n",
       "1    [5.0, 1.51, 0.5973715651135006, 4.07, 226.8, 100]\n",
       "2     [5.0, 2.79, 0.955794504181601, 4.07, 226.8, 100]\n",
       "3     [2.5, 2.46, 0.955794504181601, 4.07, 226.8, 100]\n",
       "dtype: object"
      ]
     },
     "execution_count": 851,
     "metadata": {},
     "output_type": "execute_result"
    }
   ],
   "source": [
    "def getRate(item):\n",
    "    rate=0\n",
    "    for column in u_features.keys():        \n",
    "        f_vector=dict((uf,0.0) for uf in item[column])\n",
    "        for f in f_vector:\n",
    "            rate+=item[column][f]*item[column][f]\n",
    "    return [round(item['rating'],2),round(rate,2),item['confidence']]\n",
    "testMovieVectors.apply(getRate) + getRate(user_vector)"
   ]
  },
  {
   "cell_type": "code",
   "execution_count": 852,
   "metadata": {},
   "outputs": [
    {
     "name": "stdout",
     "output_type": "stream",
     "text": [
      "[]\n",
      "setMovieVector\r\n",
      "\n"
     ]
    },
    {
     "data": {
      "text/plain": [
       "0      [3.5, 12.42, 5.256869772998805]\n",
       "1      [5.0, 25.22, 10.51373954599761]\n",
       "2     [5.0, 25.61, 18.040621266427717]\n",
       "3     [3.5, 12.49, 5.4958183990442055]\n",
       "4      [3.5, 11.59, 4.301075268817205]\n",
       "5       [0.5, 1.85, 10.75268817204301]\n",
       "6      [4.0, 15.56, 5.734767025089606]\n",
       "7      [5.0, 21.68, 4.540023894862605]\n",
       "8     [4.0, 17.94, 12.425328554360812]\n",
       "9      [4.5, 19.36, 5.137395459976105]\n",
       "10     [4.0, 15.77, 6.451612903225806]\n",
       "11     [4.5, 18.99, 4.301075268817205]\n",
       "12     [5.0, 23.89, 5.734767025089606]\n",
       "13      [5.0, 25.13, 9.55794504181601]\n",
       "dtype: object"
      ]
     },
     "execution_count": 852,
     "metadata": {},
     "output_type": "execute_result"
    }
   ],
   "source": [
    "train_items.apply(getMovieVector,axis=1).apply(getRate)\n"
   ]
  }
 ],
 "metadata": {
  "kernelspec": {
   "display_name": "Python 3",
   "language": "python",
   "name": "python3"
  },
  "language_info": {
   "codemirror_mode": {
    "name": "ipython",
    "version": 3
   },
   "file_extension": ".py",
   "mimetype": "text/x-python",
   "name": "python",
   "nbconvert_exporter": "python",
   "pygments_lexer": "ipython3",
   "version": "3.6.4"
  }
 },
 "nbformat": 4,
 "nbformat_minor": 2
}
